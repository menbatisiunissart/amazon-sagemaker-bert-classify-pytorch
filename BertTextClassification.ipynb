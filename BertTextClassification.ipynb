{
 "cells": [
  {
   "cell_type": "markdown",
   "metadata": {},
   "source": [
    "# Bert text classification on SageMaker using PyTorch\n",
    "\n",
    "This uses the [dbpedia dataset](https://wiki.dbpedia.org/services-resources/dbpedia-data-set-2014#2) and BERT for text classification. The dataset csv looks like\n",
    "\n",
    "```text\n",
    "1,\"E. D. Abbott Ltd\",\" Abbott of Farnham E D Abbott Limited was a British coachbuilding business based in Farnham Surrey trading under that name from 1929. A major part of their output was under sub-contract to motor vehicle manufacturers. Their business closed in 1972.\"\n",
    "1,\"Schwan-Stabilo\",\" Schwan-STABILO is a German maker of pens for writing colouring and cosmetics as well as markers and highlighters for office use. It is the world's largest manufacturer of highlighter pens Stabilo Boss.\"\n",
    "1,\"Q-workshop\",\" Q-workshop is a Polish company located in Poznań that specializes in designand production of polyhedral dice and dice accessories for use in various games (role-playing gamesboard games and tabletop wargames). They also run an online retail store and maintainan active forum community.Q-workshop was established in 2001 by Patryk Strzelewicz – a student from Poznań. Initiallythe company sold its products via online auction services but in 2005 a website and online store wereestablished.\"\n",
    "```\n",
    "\n"
   ]
  },
  {
   "cell_type": "code",
   "execution_count": 1,
   "metadata": {},
   "outputs": [
    {
     "output_type": "stream",
     "name": "stdout",
     "text": [
      "Requirement already satisfied: sagemaker==2.9.1 in /opt/anaconda3/lib/python3.8/site-packages (from -r requirements_notebook.txt (line 1)) (2.9.1)\n",
      "Requirement already satisfied: boto3==1.16.1 in /opt/anaconda3/lib/python3.8/site-packages (from -r requirements_notebook.txt (line 2)) (1.16.1)\n",
      "Requirement already satisfied: scikit-learn==0.23.1 in /opt/anaconda3/lib/python3.8/site-packages (from -r requirements_notebook.txt (line 3)) (0.23.1)\n",
      "Requirement already satisfied: protobuf3-to-dict>=0.1.5 in /opt/anaconda3/lib/python3.8/site-packages (from sagemaker==2.9.1->-r requirements_notebook.txt (line 1)) (0.1.5)\n",
      "Requirement already satisfied: smdebug-rulesconfig==0.1.5 in /opt/anaconda3/lib/python3.8/site-packages (from sagemaker==2.9.1->-r requirements_notebook.txt (line 1)) (0.1.5)\n",
      "Requirement already satisfied: numpy>=1.9.0 in /opt/anaconda3/lib/python3.8/site-packages (from sagemaker==2.9.1->-r requirements_notebook.txt (line 1)) (1.19.2)\n",
      "Requirement already satisfied: google-pasta in /opt/anaconda3/lib/python3.8/site-packages (from sagemaker==2.9.1->-r requirements_notebook.txt (line 1)) (0.2.0)\n",
      "Requirement already satisfied: importlib-metadata>=1.4.0 in /opt/anaconda3/lib/python3.8/site-packages (from sagemaker==2.9.1->-r requirements_notebook.txt (line 1)) (2.0.0)\n",
      "Requirement already satisfied: protobuf>=3.1 in /opt/anaconda3/lib/python3.8/site-packages (from sagemaker==2.9.1->-r requirements_notebook.txt (line 1)) (3.14.0)\n",
      "Requirement already satisfied: packaging>=20.0 in /opt/anaconda3/lib/python3.8/site-packages (from sagemaker==2.9.1->-r requirements_notebook.txt (line 1)) (20.4)\n",
      "Requirement already satisfied: s3transfer<0.4.0,>=0.3.0 in /opt/anaconda3/lib/python3.8/site-packages (from boto3==1.16.1->-r requirements_notebook.txt (line 2)) (0.3.4)\n",
      "Requirement already satisfied: botocore<1.20.0,>=1.19.1 in /opt/anaconda3/lib/python3.8/site-packages (from boto3==1.16.1->-r requirements_notebook.txt (line 2)) (1.19.63)\n",
      "Requirement already satisfied: jmespath<1.0.0,>=0.7.1 in /opt/anaconda3/lib/python3.8/site-packages (from boto3==1.16.1->-r requirements_notebook.txt (line 2)) (0.10.0)\n",
      "Requirement already satisfied: threadpoolctl>=2.0.0 in /opt/anaconda3/lib/python3.8/site-packages (from scikit-learn==0.23.1->-r requirements_notebook.txt (line 3)) (2.1.0)\n",
      "Requirement already satisfied: scipy>=0.19.1 in /opt/anaconda3/lib/python3.8/site-packages (from scikit-learn==0.23.1->-r requirements_notebook.txt (line 3)) (1.5.2)\n",
      "Requirement already satisfied: joblib>=0.11 in /opt/anaconda3/lib/python3.8/site-packages (from scikit-learn==0.23.1->-r requirements_notebook.txt (line 3)) (0.17.0)\n",
      "Requirement already satisfied: six in /opt/anaconda3/lib/python3.8/site-packages (from protobuf3-to-dict>=0.1.5->sagemaker==2.9.1->-r requirements_notebook.txt (line 1)) (1.15.0)\n",
      "Requirement already satisfied: zipp>=0.5 in /opt/anaconda3/lib/python3.8/site-packages (from importlib-metadata>=1.4.0->sagemaker==2.9.1->-r requirements_notebook.txt (line 1)) (3.4.0)\n",
      "Requirement already satisfied: pyparsing>=2.0.2 in /opt/anaconda3/lib/python3.8/site-packages (from packaging>=20.0->sagemaker==2.9.1->-r requirements_notebook.txt (line 1)) (2.4.7)\n",
      "Requirement already satisfied: python-dateutil<3.0.0,>=2.1 in /opt/anaconda3/lib/python3.8/site-packages (from botocore<1.20.0,>=1.19.1->boto3==1.16.1->-r requirements_notebook.txt (line 2)) (2.8.1)\n",
      "Requirement already satisfied: urllib3<1.27,>=1.25.4; python_version != \"3.4\" in /opt/anaconda3/lib/python3.8/site-packages (from botocore<1.20.0,>=1.19.1->boto3==1.16.1->-r requirements_notebook.txt (line 2)) (1.25.11)\n"
     ]
    }
   ],
   "source": [
    "!pip install -r requirements_notebook.txt"
   ]
  },
  {
   "cell_type": "code",
   "execution_count": 14,
   "metadata": {},
   "outputs": [],
   "source": [
    "import sys, os\n",
    "import logging\n",
    "\n",
    "sys.path.append(\"src\")\n",
    "\n",
    "logging.basicConfig(level=\"INFO\", handlers=[logging.StreamHandler(sys.stdout)],\n",
    "                        format='%(asctime)s - %(name)s - %(levelname)s - %(message)s')"
   ]
  },
  {
   "cell_type": "markdown",
   "metadata": {},
   "source": [
    "### Bucket and role set up"
   ]
  },
  {
   "cell_type": "code",
   "execution_count": 18,
   "metadata": {},
   "outputs": [
    {
     "output_type": "stream",
     "name": "stdout",
     "text": [
      "2021-03-03 12:54:27,301 - botocore.credentials - INFO - Found credentials in shared credentials file: ~/.aws/credentials\n"
     ]
    }
   ],
   "source": [
    "import sagemaker\n",
    "from sagemaker import get_execution_role\n",
    "sm_session = sagemaker.session.Session()\n",
    "role = 'SageMaker_admin'"
   ]
  },
  {
   "cell_type": "code",
   "execution_count": 30,
   "metadata": {},
   "outputs": [],
   "source": [
    "data_bucket = sm_session.default_bucket()\n",
    "\n",
    "data_bucket_prefix = \"bert-demo\"\n",
    "\n",
    "s3_uri_data = \"s3://{}/{}/data\".format(data_bucket, data_bucket_prefix)\n",
    "s3_uri_train = \"{}/{}\".format(s3_uri_data, \"train.csv\")\n",
    "s3_uri_val = \"{}/{}\".format(s3_uri_data, \"val.csv\")\n",
    "\n",
    "# Use a small data set if required for local testing..\n",
    "s3_uri_mini_data = \"s3://{}/{}/minidata\".format(data_bucket, data_bucket_prefix)\n",
    "s3_uri_mini_train = \"{}/{}\".format(s3_uri_mini_data, \"train.csv\")\n",
    "s3_uri_mini_val = \"{}/{}\".format(s3_uri_mini_data, \"val.csv\")\n",
    "\n",
    "s3_uri_classes = \"{}/{}\".format(s3_uri_data, \"classes.txt\")\n",
    "\n",
    "s3_uri_test = \"{}/{}\".format(s3_uri_data, \"test.csv\")\n",
    "\n",
    "s3_output_path = \"s3://{}/{}/output\".format(data_bucket, data_bucket_prefix)\n",
    "s3_code_path = \"s3://{}/{}/code\".format(data_bucket, data_bucket_prefix)\n",
    "s3_checkpoint = \"s3://{}/{}/checkpoint\".format(data_bucket, data_bucket_prefix)"
   ]
  },
  {
   "cell_type": "code",
   "execution_count": null,
   "metadata": {},
   "outputs": [],
   "source": [
    "prepare_dataset = True"
   ]
  },
  {
   "cell_type": "markdown",
   "metadata": {},
   "source": [
    "## Prepare dataset"
   ]
  },
  {
   "cell_type": "code",
   "execution_count": 22,
   "metadata": {},
   "outputs": [],
   "source": [
    "tmp =\"tmp\""
   ]
  },
  {
   "cell_type": "code",
   "execution_count": 23,
   "metadata": {
    "tags": [
     "outputPrepend"
    ]
   },
   "outputs": [
    {
     "output_type": "stream",
     "name": "stdout",
     "text": [
      "... .......... .......... .......... 80% 6.54M 2s\n",
      " 53900K .......... .......... .......... .......... .......... 80% 6.00M 2s\n",
      " 53950K .......... .......... .......... .......... .......... 80% 6.63M 2s\n",
      " 54000K .......... .......... .......... .......... .......... 80% 6.04M 2s\n",
      " 54050K .......... .......... .......... .......... .......... 80% 6.36M 2s\n",
      " 54100K .......... .......... .......... .......... .......... 81% 6.55M 2s\n",
      " 54150K .......... .......... .......... .......... .......... 81% 6.05M 2s\n",
      " 54200K .......... .......... .......... .......... .......... 81% 4.86M 2s\n",
      " 54250K .......... .......... .......... .......... .......... 81% 6.74M 2s\n",
      " 54300K .......... .......... .......... .......... .......... 81% 6.00M 2s\n",
      " 54350K .......... .......... .......... .......... .......... 81% 6.83M 2s\n",
      " 54400K .......... .......... .......... .......... .......... 81% 6.01M 2s\n",
      " 54450K .......... .......... .......... .......... .......... 81% 6.43M 2s\n",
      " 54500K .......... .......... .......... .......... .......... 81% 6.28M 2s\n",
      " 54550K .......... .......... .......... .......... .......... 81% 6.41M 2s\n",
      " 54600K .......... .......... .......... .......... .......... 81% 4.50M 2s\n",
      " 54650K .......... .......... .......... .......... .......... 81% 6.24M 2s\n",
      " 54700K .......... .......... .......... .......... .......... 81% 6.67M 2s\n",
      " 54750K .......... .......... .......... .......... .......... 82% 6.65M 2s\n",
      " 54800K .......... .......... .......... .......... .......... 82% 4.12M 2s\n",
      " 54850K .......... .......... .......... .......... .......... 82% 13.5M 2s\n",
      " 54900K .......... .......... .......... .......... .......... 82% 4.73M 2s\n",
      " 54950K .......... .......... .......... .......... .......... 82% 6.74M 2s\n",
      " 55000K .......... .......... .......... .......... .......... 82% 4.66M 2s\n",
      " 55050K .......... .......... .......... .......... .......... 82% 8.10M 2s\n",
      " 55100K .......... .......... .......... .......... .......... 82% 6.91M 2s\n",
      " 55150K .......... .......... .......... .......... .......... 82% 6.43M 2s\n",
      " 55200K .......... .......... .......... .......... .......... 82% 5.90M 2s\n",
      " 55250K .......... .......... .......... .......... .......... 82% 5.04M 2s\n",
      " 55300K .......... .......... .......... .......... .......... 82% 8.83M 2s\n",
      " 55350K .......... .......... .......... .......... .......... 82% 6.02M 2s\n",
      " 55400K .......... .......... .......... .......... .......... 82% 4.98M 2s\n",
      " 55450K .......... .......... .......... .......... .......... 83% 6.28M 2s\n",
      " 55500K .......... .......... .......... .......... .......... 83% 6.13M 2s\n",
      " 55550K .......... .......... .......... .......... .......... 83% 5.10M 2s\n",
      " 55600K .......... .......... .......... .......... .......... 83% 9.06M 2s\n",
      " 55650K .......... .......... .......... .......... .......... 83% 6.13M 2s\n",
      " 55700K .......... .......... .......... .......... .......... 83% 6.32M 2s\n",
      " 55750K .......... .......... .......... .......... .......... 83% 6.40M 2s\n",
      " 55800K .......... .......... .......... .......... .......... 83% 4.14M 2s\n",
      " 55850K .......... .......... .......... .......... .......... 83% 8.05M 2s\n",
      " 55900K .......... .......... .......... .......... .......... 83% 6.62M 2s\n",
      " 55950K .......... .......... .......... .......... .......... 83% 5.85M 2s\n",
      " 56000K .......... .......... .......... .......... .......... 83% 6.13M 2s\n",
      " 56050K .......... .......... .......... .......... .......... 83% 7.00M 2s\n",
      " 56100K .......... .......... .......... .......... .......... 84% 6.24M 2s\n",
      " 56150K .......... .......... .......... .......... .......... 84% 6.83M 2s\n",
      " 56200K .......... .......... .......... .......... .......... 84% 4.42M 2s\n",
      " 56250K .......... .......... .......... .......... .......... 84% 6.54M 2s\n",
      " 56300K .......... .......... .......... .......... .......... 84% 6.16M 2s\n",
      " 56350K .......... .......... .......... .......... .......... 84% 6.76M 2s\n",
      " 56400K .......... .......... .......... .......... .......... 84% 6.46M 2s\n",
      " 56450K .......... .......... .......... .......... .......... 84% 5.15M 2s\n",
      " 56500K .......... .......... .......... .......... .......... 84% 7.13M 2s\n",
      " 56550K .......... .......... .......... .......... .......... 84% 6.11M 2s\n",
      " 56600K .......... .......... .......... .......... .......... 84% 5.30M 2s\n",
      " 56650K .......... .......... .......... .......... .......... 84% 6.36M 2s\n",
      " 56700K .......... .......... .......... .......... .......... 84% 5.97M 2s\n",
      " 56750K .......... .......... .......... .......... .......... 84% 5.67M 2s\n",
      " 56800K .......... .......... .......... .......... .......... 85% 7.76M 2s\n",
      " 56850K .......... .......... .......... .......... .......... 85% 5.28M 2s\n",
      " 56900K .......... .......... .......... .......... .......... 85% 5.71M 2s\n",
      " 56950K .......... .......... .......... .......... .......... 85% 7.96M 2s\n",
      " 57000K .......... .......... .......... .......... .......... 85% 4.79M 2s\n",
      " 57050K .......... .......... .......... .......... .......... 85% 5.63M 2s\n",
      " 57100K .......... .......... .......... .......... .......... 85% 7.91M 2s\n",
      " 57150K .......... .......... .......... .......... .......... 85% 6.15M 2s\n",
      " 57200K .......... .......... .......... .......... .......... 85% 6.24M 2s\n",
      " 57250K .......... .......... .......... .......... .......... 85% 6.32M 2s\n",
      " 57300K .......... .......... .......... .......... .......... 85% 6.62M 2s\n",
      " 57350K .......... .......... .......... .......... .......... 85% 5.08M 2s\n",
      " 57400K .......... .......... .......... .......... .......... 85% 6.06M 2s\n",
      " 57450K .......... .......... .......... .......... .......... 86% 5.38M 2s\n",
      " 57500K .......... .......... .......... .......... .......... 86% 7.42M 1s\n",
      " 57550K .......... .......... .......... .......... .......... 86% 6.42M 1s\n",
      " 57600K .......... .......... .......... .......... .......... 86% 5.81M 1s\n",
      " 57650K .......... .......... .......... .......... .......... 86% 6.61M 1s\n",
      " 57700K .......... .......... .......... .......... .......... 86% 5.76M 1s\n",
      " 57750K .......... .......... .......... .......... .......... 86% 7.47M 1s\n",
      " 57800K .......... .......... .......... .......... .......... 86% 3.76M 1s\n",
      " 57850K .......... .......... .......... .......... .......... 86% 10.1M 1s\n",
      " 57900K .......... .......... .......... .......... .......... 86% 6.06M 1s\n",
      " 57950K .......... .......... .......... .......... .......... 86% 6.28M 1s\n",
      " 58000K .......... .......... .......... .......... .......... 86% 5.98M 1s\n",
      " 58050K .......... .......... .......... .......... .......... 86% 6.67M 1s\n",
      " 58100K .......... .......... .......... .......... .......... 87% 5.77M 1s\n",
      " 58150K .......... .......... .......... .......... .......... 87% 6.50M 1s\n",
      " 58200K .......... .......... .......... .......... .......... 87% 4.62M 1s\n",
      " 58250K .......... .......... .......... .......... .......... 87% 6.52M 1s\n",
      " 58300K .......... .......... .......... .......... .......... 87% 6.32M 1s\n",
      " 58350K .......... .......... .......... .......... .......... 87% 6.50M 1s\n",
      " 58400K .......... .......... .......... .......... .......... 87% 6.87M 1s\n",
      " 58450K .......... .......... .......... .......... .......... 87% 5.59M 1s\n",
      " 58500K .......... .......... .......... .......... .......... 87% 7.25M 1s\n",
      " 58550K .......... .......... .......... .......... .......... 87% 6.42M 1s\n",
      " 58600K .......... .......... .......... .......... .......... 87% 4.90M 1s\n",
      " 58650K .......... .......... .......... .......... .......... 87% 6.25M 1s\n",
      " 58700K .......... .......... .......... .......... .......... 87% 6.48M 1s\n",
      " 58750K .......... .......... .......... .......... .......... 87% 6.10M 1s\n",
      " 58800K .......... .......... .......... .......... .......... 88% 6.72M 1s\n",
      " 58850K .......... .......... .......... .......... .......... 88% 5.95M 1s\n",
      " 58900K .......... .......... .......... .......... .......... 88% 6.13M 1s\n",
      " 58950K .......... .......... .......... .......... .......... 88% 6.83M 1s\n",
      " 59000K .......... .......... .......... .......... .......... 88% 4.51M 1s\n",
      " 59050K .......... .......... .......... .......... .......... 88% 6.83M 1s\n",
      " 59100K .......... .......... .......... .......... .......... 88% 5.92M 1s\n",
      " 59150K .......... .......... .......... .......... .......... 88% 6.58M 1s\n",
      " 59200K .......... .......... .......... .......... .......... 88% 5.94M 1s\n",
      " 59250K .......... .......... .......... .......... .......... 88% 6.30M 1s\n",
      " 59300K .......... .......... .......... .......... .......... 88% 6.93M 1s\n",
      " 59350K .......... .......... .......... .......... .......... 88% 6.55M 1s\n",
      " 59400K .......... .......... .......... .......... .......... 88% 4.70M 1s\n",
      " 59450K .......... .......... .......... .......... .......... 89% 6.25M 1s\n",
      " 59500K .......... .......... .......... .......... .......... 89% 4.90M 1s\n",
      " 59550K .......... .......... .......... .......... .......... 89% 6.71M 1s\n",
      " 59600K .......... .......... .......... .......... .......... 89% 7.39M 1s\n",
      " 59650K .......... .......... .......... .......... .......... 89% 6.70M 1s\n",
      " 59700K .......... .......... .......... .......... .......... 89% 6.28M 1s\n",
      " 59750K .......... .......... .......... .......... .......... 89% 6.29M 1s\n",
      " 59800K .......... .......... .......... .......... .......... 89% 4.93M 1s\n",
      " 59850K .......... .......... .......... .......... .......... 89% 6.22M 1s\n",
      " 59900K .......... .......... .......... .......... .......... 89% 5.76M 1s\n",
      " 59950K .......... .......... .......... .......... .......... 89% 7.07M 1s\n",
      " 60000K .......... .......... .......... .......... .......... 89% 6.27M 1s\n",
      " 60050K .......... .......... .......... .......... .......... 89% 6.48M 1s\n",
      " 60100K .......... .......... .......... .......... .......... 90% 5.82M 1s\n",
      " 60150K .......... .......... .......... .......... .......... 90% 7.07M 1s\n",
      " 60200K .......... .......... .......... .......... .......... 90% 4.79M 1s\n",
      " 60250K .......... .......... .......... .......... .......... 90% 6.61M 1s\n",
      " 60300K .......... .......... .......... .......... .......... 90% 5.63M 1s\n",
      " 60350K .......... .......... .......... .......... .......... 90% 6.05M 1s\n",
      " 60400K .......... .......... .......... .......... .......... 90% 6.87M 1s\n",
      " 60450K .......... .......... .......... .......... .......... 90% 6.65M 1s\n",
      " 60500K .......... .......... .......... .......... .......... 90% 6.19M 1s\n",
      " 60550K .......... .......... .......... .......... .......... 90% 6.28M 1s\n",
      " 60600K .......... .......... .......... .......... .......... 90% 4.87M 1s\n",
      " 60650K .......... .......... .......... .......... .......... 90% 6.03M 1s\n",
      " 60700K .......... .......... .......... .......... .......... 90% 6.87M 1s\n",
      " 60750K .......... .......... .......... .......... .......... 90% 4.80M 1s\n",
      " 60800K .......... .......... .......... .......... .......... 91% 8.28M 1s\n",
      " 60850K .......... .......... .......... .......... .......... 91% 6.74M 1s\n",
      " 60900K .......... .......... .......... .......... .......... 91% 5.63M 1s\n",
      " 60950K .......... .......... .......... .......... .......... 91% 6.80M 1s\n",
      " 61000K .......... .......... .......... .......... .......... 91% 4.75M 1s\n",
      " 61050K .......... .......... .......... .......... .......... 91% 6.69M 1s\n",
      " 61100K .......... .......... .......... .......... .......... 91% 6.08M 1s\n",
      " 61150K .......... .......... .......... .......... .......... 91% 6.87M 1s\n",
      " 61200K .......... .......... .......... .......... .......... 91% 6.43M 1s\n",
      " 61250K .......... .......... .......... .......... .......... 91% 6.11M 1s\n",
      " 61300K .......... .......... .......... .......... .......... 91% 6.44M 1s\n",
      " 61350K .......... .......... .......... .......... .......... 91% 6.25M 1s\n",
      " 61400K .......... .......... .......... .......... .......... 91% 4.78M 1s\n",
      " 61450K .......... .......... .......... .......... .......... 92% 6.43M 1s\n",
      " 61500K .......... .......... .......... .......... .......... 92% 6.14M 1s\n",
      " 61550K .......... .......... .......... .......... .......... 92% 5.85M 1s\n",
      " 61600K .......... .......... .......... .......... .......... 92% 6.48M 1s\n",
      " 61650K .......... .......... .......... .......... .......... 92% 6.52M 1s\n",
      " 61700K .......... .......... .......... .......... .......... 92% 5.84M 1s\n",
      " 61750K .......... .......... .......... .......... .......... 92% 7.46M 1s\n",
      " 61800K .......... .......... .......... .......... .......... 92% 4.66M 1s\n",
      " 61850K .......... .......... .......... .......... .......... 92% 5.82M 1s\n",
      " 61900K .......... .......... .......... .......... .......... 92% 7.34M 1s\n",
      " 61950K .......... .......... .......... .......... .......... 92% 6.05M 1s\n",
      " 62000K .......... .......... .......... .......... .......... 92% 5.02M 1s\n",
      " 62050K .......... .......... .......... .......... .......... 92% 7.38M 1s\n",
      " 62100K .......... .......... .......... .......... .......... 93% 6.87M 1s\n",
      " 62150K .......... .......... .......... .......... .......... 93% 6.57M 1s\n",
      " 62200K .......... .......... .......... .......... .......... 93% 4.53M 1s\n",
      " 62250K .......... .......... .......... .......... .......... 93% 5.64M 1s\n",
      " 62300K .......... .......... .......... .......... .......... 93% 8.45M 1s\n",
      " 62350K .......... .......... .......... .......... .......... 93% 6.21M 1s\n",
      " 62400K .......... .......... .......... .......... .......... 93% 5.93M 1s\n",
      " 62450K .......... .......... .......... .......... .......... 93% 4.99M 1s\n",
      " 62500K .......... .......... .......... .......... .......... 93% 9.37M 1s\n",
      " 62550K .......... .......... .......... .......... .......... 93% 6.32M 1s\n",
      " 62600K .......... .......... .......... .......... .......... 93% 4.79M 1s\n",
      " 62650K .......... .......... .......... .......... .......... 93% 5.98M 1s\n",
      " 62700K .......... .......... .......... .......... .......... 93% 6.43M 1s\n",
      " 62750K .......... .......... .......... .......... .......... 93% 6.77M 1s\n",
      " 62800K .......... .......... .......... .......... .......... 94% 6.21M 1s\n",
      " 62850K .......... .......... .......... .......... .......... 94% 5.91M 1s\n",
      " 62900K .......... .......... .......... .......... .......... 94% 4.46M 1s\n",
      " 62950K .......... .......... .......... .......... .......... 94% 12.3M 1s\n",
      " 63000K .......... .......... .......... .......... .......... 94% 3.92M 1s\n",
      " 63050K .......... .......... .......... .......... .......... 94% 8.67M 1s\n",
      " 63100K .......... .......... .......... .......... .......... 94% 4.50M 1s\n",
      " 63150K .......... .......... .......... .......... .......... 94% 11.3M 1s\n",
      " 63200K .......... .......... .......... .......... .......... 94% 3.93M 1s\n",
      " 63250K .......... .......... .......... .......... .......... 94% 16.7M 1s\n",
      " 63300K .......... .......... .......... .......... .......... 94% 4.36M 1s\n",
      " 63350K .......... .......... .......... .......... .......... 94% 8.40M 1s\n",
      " 63400K .......... .......... .......... .......... .......... 94% 3.21M 1s\n",
      " 63450K .......... .......... .......... .......... .......... 95% 16.7M 1s\n",
      " 63500K .......... .......... .......... .......... .......... 95% 3.04M 1s\n",
      " 63550K .......... .......... .......... .......... .......... 95%  215M 1s\n",
      " 63600K .......... .......... .......... .......... .......... 95% 9.09M 1s\n",
      " 63650K .......... .......... .......... .......... .......... 95% 6.49M 1s\n",
      " 63700K .......... .......... .......... .......... .......... 95% 1.24M 0s\n",
      " 63750K .......... .......... .......... .......... .......... 95%  249M 0s\n",
      " 63800K .......... .......... .......... .......... .......... 95%  207M 0s\n",
      " 63850K .......... .......... .......... .......... .......... 95%  236M 0s\n",
      " 63900K .......... .......... .......... .......... .......... 95% 26.9M 0s\n",
      " 63950K .......... .......... .......... .......... .......... 95% 1.41M 0s\n",
      " 64000K .......... .......... .......... .......... .......... 95% 24.6M 0s\n",
      " 64050K .......... .......... .......... .......... .......... 95%  276M 0s\n",
      " 64100K .......... .......... .......... .......... .......... 95% 30.6M 0s\n",
      " 64150K .......... .......... .......... .......... .......... 96% 73.9M 0s\n",
      " 64200K .......... .......... .......... .......... .......... 96% 4.74M 0s\n",
      " 64250K .......... .......... .......... .......... .......... 96% 6.20M 0s\n",
      " 64300K .......... .......... .......... .......... .......... 96% 3.57M 0s\n",
      " 64350K .......... .......... .......... .......... .......... 96% 5.29M 0s\n",
      " 64400K .......... .......... .......... .......... .......... 96% 3.00M 0s\n",
      " 64450K .......... .......... .......... .......... .......... 96% 4.82M 0s\n",
      " 64500K .......... .......... .......... .......... .......... 96% 8.71M 0s\n",
      " 64550K .......... .......... .......... .......... .......... 96% 6.47M 0s\n",
      " 64600K .......... .......... .......... .......... .......... 96% 4.92M 0s\n",
      " 64650K .......... .......... .......... .......... .......... 96% 6.70M 0s\n",
      " 64700K .......... .......... .......... .......... .......... 96% 6.40M 0s\n",
      " 64750K .......... .......... .......... .......... .......... 96% 6.24M 0s\n",
      " 64800K .......... .......... .......... .......... .......... 97% 6.02M 0s\n",
      " 64850K .......... .......... .......... .......... .......... 97% 6.66M 0s\n",
      " 64900K .......... .......... .......... .......... .......... 97% 5.41M 0s\n",
      " 64950K .......... .......... .......... .......... .......... 97% 7.54M 0s\n",
      " 65000K .......... .......... .......... .......... .......... 97% 4.48M 0s\n",
      " 65050K .......... .......... .......... .......... .......... 97% 7.09M 0s\n",
      " 65100K .......... .......... .......... .......... .......... 97% 5.84M 0s\n",
      " 65150K .......... .......... .......... .......... .......... 97% 6.21M 0s\n",
      " 65200K .......... .......... .......... .......... .......... 97% 6.73M 0s\n",
      " 65250K .......... .......... .......... .......... .......... 97% 5.67M 0s\n",
      " 65300K .......... .......... .......... .......... .......... 97% 5.67M 0s\n",
      " 65350K .......... .......... .......... .......... .......... 97% 6.29M 0s\n",
      " 65400K .......... .......... .......... .......... .......... 97% 5.08M 0s\n",
      " 65450K .......... .......... .......... .......... .......... 98% 5.91M 0s\n",
      " 65500K .......... .......... .......... .......... .......... 98% 6.97M 0s\n",
      " 65550K .......... .......... .......... .......... .......... 98% 6.55M 0s\n",
      " 65600K .......... .......... .......... .......... .......... 98% 6.34M 0s\n",
      " 65650K .......... .......... .......... .......... .......... 98% 6.02M 0s\n",
      " 65700K .......... .......... .......... .......... .......... 98% 6.37M 0s\n",
      " 65750K .......... .......... .......... .......... .......... 98% 6.19M 0s\n",
      " 65800K .......... .......... .......... .......... .......... 98% 4.75M 0s\n",
      " 65850K .......... .......... .......... .......... .......... 98% 6.00M 0s\n",
      " 65900K .......... .......... .......... .......... .......... 98% 6.75M 0s\n",
      " 65950K .......... .......... .......... .......... .......... 98% 6.84M 0s\n",
      " 66000K .......... .......... .......... .......... .......... 98% 6.27M 0s\n",
      " 66050K .......... .......... .......... .......... .......... 98% 6.45M 0s\n",
      " 66100K .......... .......... .......... .......... .......... 98% 6.22M 0s\n",
      " 66150K .......... .......... .......... .......... .......... 99% 6.70M 0s\n",
      " 66200K .......... .......... .......... .......... .......... 99% 4.70M 0s\n",
      " 66250K .......... .......... .......... .......... .......... 99% 6.38M 0s\n",
      " 66300K .......... .......... .......... .......... .......... 99% 6.30M 0s\n",
      " 66350K .......... .......... .......... .......... .......... 99% 4.78M 0s\n",
      " 66400K .......... .......... .......... .......... .......... 99% 9.61M 0s\n",
      " 66450K .......... .......... .......... .......... .......... 99% 5.97M 0s\n",
      " 66500K .......... .......... .......... .......... .......... 99% 6.47M 0s\n",
      " 66550K .......... .......... .......... .......... .......... 99% 6.56M 0s\n",
      " 66600K .......... .......... .......... .......... .......... 99% 3.83M 0s\n",
      " 66650K .......... .......... .......... .......... .......... 99% 9.55M 0s\n",
      " 66700K .......... .......... .......... .......... .......... 99% 6.03M 0s\n",
      " 66750K .......... .......... .......... .......... .......... 99% 6.32M 0s\n",
      " 66800K .......... .......... .......                         100% 7.18M=11s\n",
      "\n",
      "2021-03-03 12:57:15 (6.06 MB/s) - ‘tmp/dbpedia_csv.tar.gz.2’ saved [68431223/68431223]\n",
      "\n",
      "x dbpedia_csv/\n",
      "x dbpedia_csv/test.csv\n",
      "x dbpedia_csv/classes.txt\n",
      "x dbpedia_csv/train.csv\n",
      "x dbpedia_csv/readme.txt\n",
      "mv: rename dbpedia_csv to tmp/dbpedia_csv: Directory not empty\n"
     ]
    }
   ],
   "source": [
    "%%bash -s  \"$prepare_dataset\"  \"$s3_uri_test\" \"$s3_uri_classes\" \"$tmp\"\n",
    "   \n",
    "prepare_dataset=$1\n",
    "s3_test=$2\n",
    "s3_classes=$3\n",
    "tmp=$4\n",
    "\n",
    "if [ \"$prepare_dataset\" == \"True\" ]\n",
    "then  \n",
    "    echo \"Downloading data..\"\n",
    "    wget https://github.com/saurabh3949/Text-Classification-Datasets/raw/master/dbpedia_csv.tar.gz -P ${tmp}\n",
    "    tar -xzvf ${tmp}/dbpedia_csv.tar.gz\n",
    "    mv dbpedia_csv ${tmp}\n",
    "    \n",
    "    ls -l ${tmp}/dbpedia_csv/\n",
    "    cat  ${tmp}/dbpedia_csv/classes.txt\n",
    "    head -3 ${tmp}/dbpedia_csv/train.csv \n",
    "    \n",
    "    echo aws s3 cp ${tmp}/dbpedia_csv/test.csv ${s3_test}\n",
    "    aws s3 cp ${tmp}/dbpedia_csv/test.csv ${s3_test}\n",
    "    \n",
    "    aws s3 cp ${tmp}/dbpedia_csv/classes.txt ${s3_classes}\n",
    "   \n",
    "fi"
   ]
  },
  {
   "cell_type": "markdown",
   "metadata": {},
   "source": [
    "#### Train val split"
   ]
  },
  {
   "cell_type": "code",
   "execution_count": 29,
   "metadata": {},
   "outputs": [],
   "source": [
    "from sklearn.model_selection import train_test_split\n",
    "\n",
    "def train_val_split(data_file, train_file_name = None, val_file_name = None, val_ratio =.30, train_ratio = .70):\n",
    "    with open(data_file, \"r\") as f:\n",
    "        lines = f.readlines()\n",
    "        \n",
    "    train, val = train_test_split( lines, test_size=val_ratio, train_size = train_ratio ,random_state=42)\n",
    "    \n",
    "    train_file_name = train_file_name or os.path.join(os.path.dirname(data_file), \"train.csv\")\n",
    "    val_file_name = val_file_name or os.path.join(os.path.dirname(data_file), \"val.csv\")\n",
    "\n",
    "    \n",
    "    with open(train_file_name, \"w\") as f:\n",
    "        f.writelines(train)\n",
    "    print(\"Wrote {} records to train\".format(len(train)))\n",
    "    \n",
    "    with open(val_file_name, \"w\") as f:\n",
    "        f.writelines(val)\n",
    "    print(\"Wrote {} records to validation\".format(len(val)))\n",
    "    \n",
    "    return train_file_name, val_file_name\n"
   ]
  },
  {
   "cell_type": "code",
   "execution_count": null,
   "metadata": {},
   "outputs": [],
   "source": [
    "if prepare_dataset:\n",
    "    from s3_util import S3Util\n",
    "    \n",
    "    s3util = S3Util()\n",
    "    l_data_file = os.path.join(tmp, \"dbpedia_csv\", \"train.csv\")\n",
    "    l_train, l_val = train_val_split(l_data_file)\n",
    "    s3util.upload_file(l_train, s3_uri_train)\n",
    "    s3util.upload_file(l_val, s3_uri_val)\n",
    "    \n",
    "    l_mini_train = os.path.join(os.path.dirname(l_data_file), \"mini_train.csv\")\n",
    "    l_mini_val = os.path.join(os.path.dirname(l_data_file), \"mini_val.csv\") \n",
    "    l_train, l_val = train_val_split(l_data_file, l_mini_train, l_mini_val, val_ratio = 0.001, train_ratio=0.01)\n",
    "\n",
    "    s3util.upload_file(l_mini_train, s3_uri_mini_train)\n",
    "    s3util.upload_file(l_mini_val, s3_uri_mini_val)\n",
    "    \n",
    "    "
   ]
  },
  {
   "cell_type": "code",
   "execution_count": null,
   "metadata": {},
   "outputs": [],
   "source": [
    "# Clean up temp file..\n",
    "!rm -rf $tmp"
   ]
  },
  {
   "cell_type": "markdown",
   "metadata": {},
   "source": [
    "## Train\n",
    "\n",
    "This shows you how to train BERT on SageMaker using SPOT instances"
   ]
  },
  {
   "cell_type": "code",
   "execution_count": 42,
   "metadata": {},
   "outputs": [],
   "source": [
    "inputs_full =  {\n",
    "    \"train\" : s3_uri_train,\n",
    "    \"val\" : s3_uri_val,\n",
    "    \"class\" : s3_uri_classes\n",
    "}\n",
    "\n",
    "inputs_sample =  {\n",
    "    \"train\" : s3_uri_mini_train,\n",
    "    \"val\" : s3_uri_mini_val,\n",
    "    \"class\" : s3_uri_classes\n",
    "}\n",
    "\n",
    "# Using the full dataset can take a while 4-5 hours. So if you just quickly test the sample, use inputs_sample\n",
    "inputs = inputs_sample"
   ]
  },
  {
   "cell_type": "code",
   "execution_count": 43,
   "metadata": {},
   "outputs": [],
   "source": [
    "sm_localcheckpoint_dir=\"/opt/ml/checkpoints/\""
   ]
  },
  {
   "cell_type": "code",
   "execution_count": 44,
   "metadata": {},
   "outputs": [],
   "source": [
    "instance_type = \"ml.p3.8xlarge\"\n",
    "instance_type_gpu_map = {\"ml.p3.8xlarge\":4, \"ml.p3.2xlarge\": 1, \"ml.p3.16xlarge\":8}"
   ]
  },
  {
   "cell_type": "code",
   "execution_count": 45,
   "metadata": {},
   "outputs": [],
   "source": [
    "hp = {\n",
    "\"epochs\" : 10,\n",
    "\"earlystoppingpatience\" : 3,\n",
    "# Increasing batch size might end up with CUDA OOM error, increase grad accumulation instead\n",
    "\"batch\" : 8 * instance_type_gpu_map[instance_type],\n",
    "\"trainfile\" :s3_uri_train.split(\"/\")[-1],\n",
    "\"valfile\" : s3_uri_val.split(\"/\")[-1],\n",
    "\"classfile\":s3_uri_classes.split(\"/\")[-1],\n",
    "# The number of steps to accumulate gradients for\n",
    "\"gradaccumulation\" : 4,\n",
    "\"log-level\":\"INFO\",\n",
    "# This param depends on your model max pos embedding size or when large you might end up with CUDA OOM error    \n",
    "\"maxseqlen\" : 512,\n",
    "# Make sure the lr is quite small, as this is a pretrained model..\n",
    "\"lr\":0.00001,\n",
    "# Use finetuning (set to 1), if you only want to change the weights in the final classification layer.. \n",
    "\"finetune\": 0,\n",
    "\"checkpointdir\" : sm_localcheckpoint_dir,\n",
    "# Checkpoints once every n epochs\n",
    "\"checkpointfreq\": 2\n",
    "}\n",
    "\n"
   ]
  },
  {
   "cell_type": "code",
   "execution_count": 46,
   "metadata": {},
   "outputs": [
    {
     "output_type": "execute_result",
     "data": {
      "text/plain": [
       "{'epochs': 10,\n",
       " 'earlystoppingpatience': 3,\n",
       " 'batch': 32,\n",
       " 'trainfile': 'train.csv',\n",
       " 'valfile': 'val.csv',\n",
       " 'classfile': 'classes.txt',\n",
       " 'gradaccumulation': 4,\n",
       " 'log-level': 'INFO',\n",
       " 'maxseqlen': 512,\n",
       " 'lr': 1e-05,\n",
       " 'finetune': 0,\n",
       " 'checkpointdir': '/opt/ml/checkpoints/',\n",
       " 'checkpointfreq': 2}"
      ]
     },
     "metadata": {},
     "execution_count": 46
    }
   ],
   "source": [
    "hp"
   ]
  },
  {
   "cell_type": "code",
   "execution_count": 47,
   "metadata": {},
   "outputs": [
    {
     "output_type": "execute_result",
     "data": {
      "text/plain": [
       "{'train': 's3://sagemaker-ca-central-1-114590703656/bert-demo/minidata/train.csv',\n",
       " 'val': 's3://sagemaker-ca-central-1-114590703656/bert-demo/minidata/val.csv',\n",
       " 'class': 's3://sagemaker-ca-central-1-114590703656/bert-demo/data/classes.txt'}"
      ]
     },
     "metadata": {},
     "execution_count": 47
    }
   ],
   "source": [
    "inputs"
   ]
  },
  {
   "cell_type": "code",
   "execution_count": 48,
   "metadata": {},
   "outputs": [],
   "source": [
    "metric_definitions = [{\"Name\": \"TrainLoss\",\n",
    "                     \"Regex\": \"###score: train_loss### (\\d*[.]?\\d*)\"}\n",
    "                    ,{\"Name\": \"ValidationLoss\",\n",
    "                     \"Regex\": \"###score: val_loss### (\\d*[.]?\\d*)\"}\n",
    "                    ,{\"Name\": \"TrainScore\",\n",
    "                     \"Regex\": \"###score: train_score### (\\d*[.]?\\d*)\"}\n",
    "                   ,{\"Name\": \"ValidationScore\",\n",
    "                     \"Regex\": \"###score: val_score### (\\d*[.]?\\d*)\"}\n",
    "                    ]"
   ]
  },
  {
   "cell_type": "code",
   "execution_count": 49,
   "metadata": {},
   "outputs": [],
   "source": [
    "# set True if you need spot instance\n",
    "use_spot = True\n",
    "train_max_run_secs =   2*24 * 60 * 60\n",
    "spot_wait_sec =  5 * 60\n",
    "max_wait_time_secs = train_max_run_secs +  spot_wait_sec\n",
    "\n",
    "if not use_spot:\n",
    "    max_wait_time_secs = None\n",
    "    \n",
    "# During local mode, no spot.., use smaller dataset\n",
    "if instance_type == 'local':\n",
    "    use_spot = False\n",
    "    max_wait_time_secs = 0\n",
    "    wait = True\n",
    "    # Use smaller dataset to run locally\n",
    "    inputs = inputs_sample\n"
   ]
  },
  {
   "cell_type": "code",
   "execution_count": 50,
   "metadata": {},
   "outputs": [],
   "source": [
    "job_type = \"bert-classification\"\n",
    "base_name = \"{}\".format(job_type)"
   ]
  },
  {
   "cell_type": "code",
   "execution_count": 51,
   "metadata": {},
   "outputs": [
    {
     "output_type": "stream",
     "name": "stdout",
     "text": [
      "2021-03-03 13:02:22,765 - sagemaker - INFO - Creating training-job with name: bert-classification-2021-03-03-13-02-21-256\n"
     ]
    },
    {
     "output_type": "error",
     "ename": "ResourceLimitExceeded",
     "evalue": "An error occurred (ResourceLimitExceeded) when calling the CreateTrainingJob operation: The account-level service limit 'ml.p3.8xlarge for spot training job usage' is 0 Instances, with current utilization of 0 Instances and a request delta of 1 Instances. Please contact AWS support to request an increase for this limit.",
     "traceback": [
      "\u001b[0;31m---------------------------------------------------------------------------\u001b[0m",
      "\u001b[0;31mResourceLimitExceeded\u001b[0m                     Traceback (most recent call last)",
      "\u001b[0;32m<ipython-input-51-b07af1b54618>\u001b[0m in \u001b[0;36m<module>\u001b[0;34m\u001b[0m\n\u001b[1;32m     23\u001b[0m                     checkpoint_local_path=sm_localcheckpoint_dir)\n\u001b[1;32m     24\u001b[0m \u001b[0;34m\u001b[0m\u001b[0m\n\u001b[0;32m---> 25\u001b[0;31m \u001b[0mestimator\u001b[0m\u001b[0;34m.\u001b[0m\u001b[0mfit\u001b[0m\u001b[0;34m(\u001b[0m\u001b[0minputs\u001b[0m\u001b[0;34m,\u001b[0m \u001b[0mwait\u001b[0m\u001b[0;34m=\u001b[0m\u001b[0;32mTrue\u001b[0m\u001b[0;34m)\u001b[0m\u001b[0;34m\u001b[0m\u001b[0;34m\u001b[0m\u001b[0m\n\u001b[0m",
      "\u001b[0;32m/opt/anaconda3/lib/python3.8/site-packages/sagemaker/estimator.py\u001b[0m in \u001b[0;36mfit\u001b[0;34m(self, inputs, wait, logs, job_name, experiment_config)\u001b[0m\n\u001b[1;32m    501\u001b[0m         \u001b[0mself\u001b[0m\u001b[0;34m.\u001b[0m\u001b[0m_prepare_for_training\u001b[0m\u001b[0;34m(\u001b[0m\u001b[0mjob_name\u001b[0m\u001b[0;34m=\u001b[0m\u001b[0mjob_name\u001b[0m\u001b[0;34m)\u001b[0m\u001b[0;34m\u001b[0m\u001b[0;34m\u001b[0m\u001b[0m\n\u001b[1;32m    502\u001b[0m \u001b[0;34m\u001b[0m\u001b[0m\n\u001b[0;32m--> 503\u001b[0;31m         \u001b[0mself\u001b[0m\u001b[0;34m.\u001b[0m\u001b[0mlatest_training_job\u001b[0m \u001b[0;34m=\u001b[0m \u001b[0m_TrainingJob\u001b[0m\u001b[0;34m.\u001b[0m\u001b[0mstart_new\u001b[0m\u001b[0;34m(\u001b[0m\u001b[0mself\u001b[0m\u001b[0;34m,\u001b[0m \u001b[0minputs\u001b[0m\u001b[0;34m,\u001b[0m \u001b[0mexperiment_config\u001b[0m\u001b[0;34m)\u001b[0m\u001b[0;34m\u001b[0m\u001b[0;34m\u001b[0m\u001b[0m\n\u001b[0m\u001b[1;32m    504\u001b[0m         \u001b[0mself\u001b[0m\u001b[0;34m.\u001b[0m\u001b[0mjobs\u001b[0m\u001b[0;34m.\u001b[0m\u001b[0mappend\u001b[0m\u001b[0;34m(\u001b[0m\u001b[0mself\u001b[0m\u001b[0;34m.\u001b[0m\u001b[0mlatest_training_job\u001b[0m\u001b[0;34m)\u001b[0m\u001b[0;34m\u001b[0m\u001b[0;34m\u001b[0m\u001b[0m\n\u001b[1;32m    505\u001b[0m         \u001b[0;32mif\u001b[0m \u001b[0mwait\u001b[0m\u001b[0;34m:\u001b[0m\u001b[0;34m\u001b[0m\u001b[0;34m\u001b[0m\u001b[0m\n",
      "\u001b[0;32m/opt/anaconda3/lib/python3.8/site-packages/sagemaker/estimator.py\u001b[0m in \u001b[0;36mstart_new\u001b[0;34m(cls, estimator, inputs, experiment_config)\u001b[0m\n\u001b[1;32m   1049\u001b[0m         \"\"\"\n\u001b[1;32m   1050\u001b[0m         \u001b[0mtrain_args\u001b[0m \u001b[0;34m=\u001b[0m \u001b[0mcls\u001b[0m\u001b[0;34m.\u001b[0m\u001b[0m_get_train_args\u001b[0m\u001b[0;34m(\u001b[0m\u001b[0mestimator\u001b[0m\u001b[0;34m,\u001b[0m \u001b[0minputs\u001b[0m\u001b[0;34m,\u001b[0m \u001b[0mexperiment_config\u001b[0m\u001b[0;34m)\u001b[0m\u001b[0;34m\u001b[0m\u001b[0;34m\u001b[0m\u001b[0m\n\u001b[0;32m-> 1051\u001b[0;31m         \u001b[0mestimator\u001b[0m\u001b[0;34m.\u001b[0m\u001b[0msagemaker_session\u001b[0m\u001b[0;34m.\u001b[0m\u001b[0mtrain\u001b[0m\u001b[0;34m(\u001b[0m\u001b[0;34m**\u001b[0m\u001b[0mtrain_args\u001b[0m\u001b[0;34m)\u001b[0m\u001b[0;34m\u001b[0m\u001b[0;34m\u001b[0m\u001b[0m\n\u001b[0m\u001b[1;32m   1052\u001b[0m \u001b[0;34m\u001b[0m\u001b[0m\n\u001b[1;32m   1053\u001b[0m         \u001b[0;32mreturn\u001b[0m \u001b[0mcls\u001b[0m\u001b[0;34m(\u001b[0m\u001b[0mestimator\u001b[0m\u001b[0;34m.\u001b[0m\u001b[0msagemaker_session\u001b[0m\u001b[0;34m,\u001b[0m \u001b[0mestimator\u001b[0m\u001b[0;34m.\u001b[0m\u001b[0m_current_job_name\u001b[0m\u001b[0;34m)\u001b[0m\u001b[0;34m\u001b[0m\u001b[0;34m\u001b[0m\u001b[0m\n",
      "\u001b[0;32m/opt/anaconda3/lib/python3.8/site-packages/sagemaker/session.py\u001b[0m in \u001b[0;36mtrain\u001b[0;34m(self, input_mode, input_config, role, job_name, output_config, resource_config, vpc_config, hyperparameters, stop_condition, tags, metric_definitions, enable_network_isolation, image_uri, algorithm_arn, encrypt_inter_container_traffic, use_spot_instances, checkpoint_s3_uri, checkpoint_local_path, experiment_config, debugger_rule_configs, debugger_hook_config, tensorboard_output_config, enable_sagemaker_metrics)\u001b[0m\n\u001b[1;32m    539\u001b[0m         \u001b[0mLOGGER\u001b[0m\u001b[0;34m.\u001b[0m\u001b[0minfo\u001b[0m\u001b[0;34m(\u001b[0m\u001b[0;34m\"Creating training-job with name: %s\"\u001b[0m\u001b[0;34m,\u001b[0m \u001b[0mjob_name\u001b[0m\u001b[0;34m)\u001b[0m\u001b[0;34m\u001b[0m\u001b[0;34m\u001b[0m\u001b[0m\n\u001b[1;32m    540\u001b[0m         \u001b[0mLOGGER\u001b[0m\u001b[0;34m.\u001b[0m\u001b[0mdebug\u001b[0m\u001b[0;34m(\u001b[0m\u001b[0;34m\"train request: %s\"\u001b[0m\u001b[0;34m,\u001b[0m \u001b[0mjson\u001b[0m\u001b[0;34m.\u001b[0m\u001b[0mdumps\u001b[0m\u001b[0;34m(\u001b[0m\u001b[0mtrain_request\u001b[0m\u001b[0;34m,\u001b[0m \u001b[0mindent\u001b[0m\u001b[0;34m=\u001b[0m\u001b[0;36m4\u001b[0m\u001b[0;34m)\u001b[0m\u001b[0;34m)\u001b[0m\u001b[0;34m\u001b[0m\u001b[0;34m\u001b[0m\u001b[0m\n\u001b[0;32m--> 541\u001b[0;31m         \u001b[0mself\u001b[0m\u001b[0;34m.\u001b[0m\u001b[0msagemaker_client\u001b[0m\u001b[0;34m.\u001b[0m\u001b[0mcreate_training_job\u001b[0m\u001b[0;34m(\u001b[0m\u001b[0;34m**\u001b[0m\u001b[0mtrain_request\u001b[0m\u001b[0;34m)\u001b[0m\u001b[0;34m\u001b[0m\u001b[0;34m\u001b[0m\u001b[0m\n\u001b[0m\u001b[1;32m    542\u001b[0m \u001b[0;34m\u001b[0m\u001b[0m\n\u001b[1;32m    543\u001b[0m     def _get_train_request(  # noqa: C901\n",
      "\u001b[0;32m/opt/anaconda3/lib/python3.8/site-packages/botocore/client.py\u001b[0m in \u001b[0;36m_api_call\u001b[0;34m(self, *args, **kwargs)\u001b[0m\n\u001b[1;32m    355\u001b[0m                     \"%s() only accepts keyword arguments.\" % py_operation_name)\n\u001b[1;32m    356\u001b[0m             \u001b[0;31m# The \"self\" in this scope is referring to the BaseClient.\u001b[0m\u001b[0;34m\u001b[0m\u001b[0;34m\u001b[0m\u001b[0;34m\u001b[0m\u001b[0m\n\u001b[0;32m--> 357\u001b[0;31m             \u001b[0;32mreturn\u001b[0m \u001b[0mself\u001b[0m\u001b[0;34m.\u001b[0m\u001b[0m_make_api_call\u001b[0m\u001b[0;34m(\u001b[0m\u001b[0moperation_name\u001b[0m\u001b[0;34m,\u001b[0m \u001b[0mkwargs\u001b[0m\u001b[0;34m)\u001b[0m\u001b[0;34m\u001b[0m\u001b[0;34m\u001b[0m\u001b[0m\n\u001b[0m\u001b[1;32m    358\u001b[0m \u001b[0;34m\u001b[0m\u001b[0m\n\u001b[1;32m    359\u001b[0m         \u001b[0m_api_call\u001b[0m\u001b[0;34m.\u001b[0m\u001b[0m__name__\u001b[0m \u001b[0;34m=\u001b[0m \u001b[0mstr\u001b[0m\u001b[0;34m(\u001b[0m\u001b[0mpy_operation_name\u001b[0m\u001b[0;34m)\u001b[0m\u001b[0;34m\u001b[0m\u001b[0;34m\u001b[0m\u001b[0m\n",
      "\u001b[0;32m/opt/anaconda3/lib/python3.8/site-packages/botocore/client.py\u001b[0m in \u001b[0;36m_make_api_call\u001b[0;34m(self, operation_name, api_params)\u001b[0m\n\u001b[1;32m    674\u001b[0m             \u001b[0merror_code\u001b[0m \u001b[0;34m=\u001b[0m \u001b[0mparsed_response\u001b[0m\u001b[0;34m.\u001b[0m\u001b[0mget\u001b[0m\u001b[0;34m(\u001b[0m\u001b[0;34m\"Error\"\u001b[0m\u001b[0;34m,\u001b[0m \u001b[0;34m{\u001b[0m\u001b[0;34m}\u001b[0m\u001b[0;34m)\u001b[0m\u001b[0;34m.\u001b[0m\u001b[0mget\u001b[0m\u001b[0;34m(\u001b[0m\u001b[0;34m\"Code\"\u001b[0m\u001b[0;34m)\u001b[0m\u001b[0;34m\u001b[0m\u001b[0;34m\u001b[0m\u001b[0m\n\u001b[1;32m    675\u001b[0m             \u001b[0merror_class\u001b[0m \u001b[0;34m=\u001b[0m \u001b[0mself\u001b[0m\u001b[0;34m.\u001b[0m\u001b[0mexceptions\u001b[0m\u001b[0;34m.\u001b[0m\u001b[0mfrom_code\u001b[0m\u001b[0;34m(\u001b[0m\u001b[0merror_code\u001b[0m\u001b[0;34m)\u001b[0m\u001b[0;34m\u001b[0m\u001b[0;34m\u001b[0m\u001b[0m\n\u001b[0;32m--> 676\u001b[0;31m             \u001b[0;32mraise\u001b[0m \u001b[0merror_class\u001b[0m\u001b[0;34m(\u001b[0m\u001b[0mparsed_response\u001b[0m\u001b[0;34m,\u001b[0m \u001b[0moperation_name\u001b[0m\u001b[0;34m)\u001b[0m\u001b[0;34m\u001b[0m\u001b[0;34m\u001b[0m\u001b[0m\n\u001b[0m\u001b[1;32m    677\u001b[0m         \u001b[0;32melse\u001b[0m\u001b[0;34m:\u001b[0m\u001b[0;34m\u001b[0m\u001b[0;34m\u001b[0m\u001b[0m\n\u001b[1;32m    678\u001b[0m             \u001b[0;32mreturn\u001b[0m \u001b[0mparsed_response\u001b[0m\u001b[0;34m\u001b[0m\u001b[0;34m\u001b[0m\u001b[0m\n",
      "\u001b[0;31mResourceLimitExceeded\u001b[0m: An error occurred (ResourceLimitExceeded) when calling the CreateTrainingJob operation: The account-level service limit 'ml.p3.8xlarge for spot training job usage' is 0 Instances, with current utilization of 0 Instances and a request delta of 1 Instances. Please contact AWS support to request an increase for this limit."
     ]
    }
   ],
   "source": [
    "from sagemaker.pytorch import PyTorch\n",
    "\n",
    "estimator = PyTorch(\n",
    "     #entry_point='main_train_k_fold.py',\n",
    "    entry_point='main.py',\n",
    "                    source_dir = 'src',\n",
    "                    role=role,\n",
    "                    framework_version =\"1.4.0\",\n",
    "                    py_version='py3',\n",
    "                    instance_count=1,\n",
    "                    instance_type=instance_type,\n",
    "                    hyperparameters = hp,\n",
    "                    output_path=s3_output_path,\n",
    "                    metric_definitions=metric_definitions,\n",
    "                    volume_size=30,\n",
    "                    code_location=s3_code_path,\n",
    "                    debugger_hook_config=False,\n",
    "                    base_job_name =base_name,  \n",
    "                    use_spot_instances = use_spot,\n",
    "                    max_run =  train_max_run_secs,\n",
    "                    max_wait = max_wait_time_secs,   \n",
    "                    checkpoint_s3_uri=s3_checkpoint,\n",
    "                    checkpoint_local_path=sm_localcheckpoint_dir)\n",
    "\n",
    "estimator.fit(inputs, wait=True)"
   ]
  },
  {
   "cell_type": "markdown",
   "metadata": {},
   "source": [
    "## Deploy BERT model"
   ]
  },
  {
   "cell_type": "markdown",
   "metadata": {},
   "source": [
    "#### Inference container\n",
    "Ideally the server containing should already have all the required dependencies installed to reduce start up time and ensure that the runtime enviornment is consistent. This can be implemented using a custom docker image.\n",
    "\n",
    "But for this demo, to simplify, we will let the Pytorch container script model install the dependencies during start up. As a result, you will see some of the initial ping requests fail, until all dependencies are installed.\n"
   ]
  },
  {
   "cell_type": "code",
   "execution_count": null,
   "metadata": {},
   "outputs": [],
   "source": [
    "from sagemaker.pytorch import PyTorchModel\n",
    "from sagemaker import get_execution_role\n",
    "role = get_execution_role()\n",
    "\n",
    "model_uri = estimator.model_data\n",
    "\n",
    "model = PyTorchModel(model_data=model_uri,\n",
    "                     role=role,\n",
    "                     py_version = \"py3\",\n",
    "                     framework_version='1.4.0',\n",
    "                     entry_point='serve.py',\n",
    "                     source_dir='src')\n",
    "\n",
    "predictor = model.deploy(initial_instance_count=1, instance_type='ml.p3.2xlarge')"
   ]
  },
  {
   "cell_type": "markdown",
   "metadata": {},
   "source": [
    "### Invoke API"
   ]
  },
  {
   "cell_type": "code",
   "execution_count": null,
   "metadata": {},
   "outputs": [],
   "source": [
    "data = [\"Q-workshop is a Polish company located in Poznań that specializes in designand production of polyhedral dice\",\n",
    "        \"ET is a sci-fi directed by steven spielberg\"]"
   ]
  },
  {
   "cell_type": "code",
   "execution_count": null,
   "metadata": {},
   "outputs": [],
   "source": [
    "import json\n",
    "\n",
    "\n",
    "class TextSerDes:\n",
    "    \n",
    "     def serialize(self, x):\n",
    "        data_bytes=\"\\n\".join(x).encode(\"utf-8\")\n",
    "        return data_bytes\n",
    "    \n",
    "     def deserialize(self, x, content_type):\n",
    "        return json.loads(x.read().decode(\"utf-8\")) "
   ]
  },
  {
   "cell_type": "code",
   "execution_count": null,
   "metadata": {},
   "outputs": [],
   "source": [
    "\n",
    "predictor.serializer = TextSerDes()\n",
    "predictor.deserializer = TextSerDes()\n",
    "\n",
    "\n",
    "response  = predictor.predict(data,  initial_args={ \"Accept\":\"text/json\", \"ContentType\" : \"text/csv\" }\n",
    "                                   )\n",
    "\n",
    "response "
   ]
  },
  {
   "cell_type": "markdown",
   "metadata": {},
   "source": [
    "## Delete endpoint"
   ]
  },
  {
   "cell_type": "code",
   "execution_count": null,
   "metadata": {},
   "outputs": [],
   "source": [
    "predictor.delete_endpoint()"
   ]
  }
 ],
 "metadata": {
  "kernelspec": {
   "name": "python3",
   "display_name": "Python 3.8.5 64-bit ('base': conda)",
   "metadata": {
    "interpreter": {
     "hash": "dca0ade3e726a953b501b15e8e990130d2b7799f14cfd9f4271676035ebe5511"
    }
   }
  },
  "language_info": {
   "codemirror_mode": {
    "name": "ipython",
    "version": 3
   },
   "file_extension": ".py",
   "mimetype": "text/x-python",
   "name": "python",
   "nbconvert_exporter": "python",
   "pygments_lexer": "ipython3",
   "version": "3.8.5-final"
  }
 },
 "nbformat": 4,
 "nbformat_minor": 4
}